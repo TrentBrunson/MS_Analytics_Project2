{
 "cells": [
  {
   "cell_type": "code",
   "execution_count": null,
   "metadata": {},
   "outputs": [],
   "source": [
    "def main():\n",
    "    makeDir\n",
    "    %run ./eda.ipynb\n",
    "    %run ./models.ipynb\n",
    "\n",
    "if __name__ == \"__main__\":\n",
    "    main()"
   ]
  },
  {
   "cell_type": "code",
   "execution_count": null,
   "metadata": {},
   "outputs": [],
   "source": [
    "def makeDir():\n",
    "    path1 = \"images\"  # make a location to store images\n",
    "    path2 = \"data\"  # make a location to store images\n",
    "    # mkdir for\n",
    "    try:\n",
    "        os.mkdir(path1)\n",
    "    except OSError:\n",
    "        print (\"Creation of the directory %s failed; it already exists.\" % path1)\n",
    "    else:\n",
    "        print (\"Successfully created the directory %s\" % path1)\n",
    "    # mkdir for cleaned data file\n",
    "    try:\n",
    "        os.mkdir(path2)\n",
    "    except OSError:\n",
    "        print (\"Creation of the directory %s failed; it already exists.\" % path2)\n",
    "    else:\n",
    "        print (\"Successfully created the directory %s\" % path2)\n",
    "\n",
    "def cleanedDataFile(df):\n",
    "    csv_path = f\"data\\heartCleaned.csv\"\n",
    "    df.to_csv(csv_path, sep= ',', index= False)"
   ]
  }
 ],
 "metadata": {
  "language_info": {
   "name": "python"
  },
  "orig_nbformat": 4
 },
 "nbformat": 4,
 "nbformat_minor": 2
}
