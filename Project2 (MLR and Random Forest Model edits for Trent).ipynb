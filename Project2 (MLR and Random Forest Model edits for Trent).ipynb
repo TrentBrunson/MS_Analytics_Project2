{
 "cells": [
  {
   "cell_type": "code",
   "execution_count": 1,
   "metadata": {},
   "outputs": [],
   "source": [
    "import pandas as pd\n",
    "import numpy as np\n",
    "import seaborn as sns\n",
    "import matplotlib.pyplot as plt\n",
    "\n",
    "from sklearn.linear_model import LinearRegression\n",
    "from sklearn.model_selection import train_test_split\n",
    "from sklearn import metrics"
   ]
  },
  {
   "cell_type": "code",
   "execution_count": 2,
   "metadata": {},
   "outputs": [
    {
     "data": {
      "text/html": [
       "<div>\n",
       "<style scoped>\n",
       "    .dataframe tbody tr th:only-of-type {\n",
       "        vertical-align: middle;\n",
       "    }\n",
       "\n",
       "    .dataframe tbody tr th {\n",
       "        vertical-align: top;\n",
       "    }\n",
       "\n",
       "    .dataframe thead th {\n",
       "        text-align: right;\n",
       "    }\n",
       "</style>\n",
       "<table border=\"1\" class=\"dataframe\">\n",
       "  <thead>\n",
       "    <tr style=\"text-align: right;\">\n",
       "      <th></th>\n",
       "      <th>Age</th>\n",
       "      <th>Sex</th>\n",
       "      <th>ChestPainType</th>\n",
       "      <th>RestingBP</th>\n",
       "      <th>Cholesterol</th>\n",
       "      <th>FastingBS</th>\n",
       "      <th>RestingECG</th>\n",
       "      <th>MaxHR</th>\n",
       "      <th>ExerciseAngina</th>\n",
       "      <th>Oldpeak</th>\n",
       "      <th>ST_Slope</th>\n",
       "      <th>HeartDisease</th>\n",
       "    </tr>\n",
       "  </thead>\n",
       "  <tbody>\n",
       "    <tr>\n",
       "      <th>0</th>\n",
       "      <td>40</td>\n",
       "      <td>M</td>\n",
       "      <td>ATA</td>\n",
       "      <td>140</td>\n",
       "      <td>289</td>\n",
       "      <td>0</td>\n",
       "      <td>Normal</td>\n",
       "      <td>172</td>\n",
       "      <td>N</td>\n",
       "      <td>0.0</td>\n",
       "      <td>Up</td>\n",
       "      <td>0</td>\n",
       "    </tr>\n",
       "    <tr>\n",
       "      <th>1</th>\n",
       "      <td>49</td>\n",
       "      <td>F</td>\n",
       "      <td>NAP</td>\n",
       "      <td>160</td>\n",
       "      <td>180</td>\n",
       "      <td>0</td>\n",
       "      <td>Normal</td>\n",
       "      <td>156</td>\n",
       "      <td>N</td>\n",
       "      <td>1.0</td>\n",
       "      <td>Flat</td>\n",
       "      <td>1</td>\n",
       "    </tr>\n",
       "    <tr>\n",
       "      <th>2</th>\n",
       "      <td>37</td>\n",
       "      <td>M</td>\n",
       "      <td>ATA</td>\n",
       "      <td>130</td>\n",
       "      <td>283</td>\n",
       "      <td>0</td>\n",
       "      <td>ST</td>\n",
       "      <td>98</td>\n",
       "      <td>N</td>\n",
       "      <td>0.0</td>\n",
       "      <td>Up</td>\n",
       "      <td>0</td>\n",
       "    </tr>\n",
       "    <tr>\n",
       "      <th>3</th>\n",
       "      <td>48</td>\n",
       "      <td>F</td>\n",
       "      <td>ASY</td>\n",
       "      <td>138</td>\n",
       "      <td>214</td>\n",
       "      <td>0</td>\n",
       "      <td>Normal</td>\n",
       "      <td>108</td>\n",
       "      <td>Y</td>\n",
       "      <td>1.5</td>\n",
       "      <td>Flat</td>\n",
       "      <td>1</td>\n",
       "    </tr>\n",
       "    <tr>\n",
       "      <th>4</th>\n",
       "      <td>54</td>\n",
       "      <td>M</td>\n",
       "      <td>NAP</td>\n",
       "      <td>150</td>\n",
       "      <td>195</td>\n",
       "      <td>0</td>\n",
       "      <td>Normal</td>\n",
       "      <td>122</td>\n",
       "      <td>N</td>\n",
       "      <td>0.0</td>\n",
       "      <td>Up</td>\n",
       "      <td>0</td>\n",
       "    </tr>\n",
       "  </tbody>\n",
       "</table>\n",
       "</div>"
      ],
      "text/plain": [
       "   Age Sex ChestPainType  RestingBP  Cholesterol  FastingBS RestingECG  MaxHR  \\\n",
       "0   40   M           ATA        140          289          0     Normal    172   \n",
       "1   49   F           NAP        160          180          0     Normal    156   \n",
       "2   37   M           ATA        130          283          0         ST     98   \n",
       "3   48   F           ASY        138          214          0     Normal    108   \n",
       "4   54   M           NAP        150          195          0     Normal    122   \n",
       "\n",
       "  ExerciseAngina  Oldpeak ST_Slope  HeartDisease  \n",
       "0              N      0.0       Up             0  \n",
       "1              N      1.0     Flat             1  \n",
       "2              N      0.0       Up             0  \n",
       "3              Y      1.5     Flat             1  \n",
       "4              N      0.0       Up             0  "
      ]
     },
     "execution_count": 2,
     "metadata": {},
     "output_type": "execute_result"
    }
   ],
   "source": [
    "df = pd.read_csv('https://raw.githubusercontent.com/JD23tamu/MS_Analytics_Project2/main/data/heart.csv')\n",
    "df.head()"
   ]
  },
  {
   "cell_type": "markdown",
   "metadata": {},
   "source": [
    "**Which is target variable?**\n",
    "\n",
    "Taget variable is HeartDisease."
   ]
  },
  {
   "cell_type": "code",
   "execution_count": 3,
   "metadata": {},
   "outputs": [
    {
     "name": "stdout",
     "output_type": "stream",
     "text": [
      "Number of Duplicates: 0\n"
     ]
    }
   ],
   "source": [
    "print('Number of Duplicates:', len(df[df.duplicated()]))"
   ]
  },
  {
   "cell_type": "code",
   "execution_count": 4,
   "metadata": {},
   "outputs": [
    {
     "data": {
      "text/plain": [
       "1    55.0\n",
       "0    45.0\n",
       "Name: HeartDisease, dtype: float64"
      ]
     },
     "execution_count": 4,
     "metadata": {},
     "output_type": "execute_result"
    }
   ],
   "source": [
    "# check counts for heart disease or not\n",
    "# balanced or not?\n",
    "round(df['HeartDisease'].value_counts()/len(df['HeartDisease'])*100)"
   ]
  },
  {
   "cell_type": "markdown",
   "metadata": {},
   "source": [
    "The target variable of this dataset, is mostly balanced."
   ]
  },
  {
   "cell_type": "code",
   "execution_count": 5,
   "metadata": {},
   "outputs": [
    {
     "data": {
      "image/png": "[encoded data removed]",
      "text/plain": [
       "<Figure size 720x720 with 5 Axes>"
      ]
     },
     "metadata": {},
     "output_type": "display_data"
    }
   ],
   "source": [
    "heart_df = df[df['HeartDisease'] == 1]\n",
    "fig, ax = plt.subplots(figsize =(10, 10))\n",
    "fig.patch.set_facecolor('#f1faee')\n",
    "\n",
    "j = 1\n",
    "for i in heart_df.columns: \n",
    "    if heart_df[i].dtypes  == 'object':\n",
    "        plt.subplot(3, 2, j)\n",
    "        sns.countplot(y = heart_df[i], data = heart_df, order=heart_df[i].value_counts().index, palette='Blues_r', edgecolor='black')\n",
    "        #plt.title(i, fontsize=15, color='black')\n",
    "        plt.suptitle('Categorical Variables', fontsize=20)\n",
    "        j = j + 1"
   ]
  },
  {
   "cell_type": "markdown",
   "metadata": {},
   "source": [
    "Above graph shows: \n",
    "\n",
    "* Male getting more heartdisease than female\n",
    "* Asymptomatic chest pain shows more heartdisease\n",
    "* Exercise Angina showing more heartdisease\n",
    "* ST Slope Flat has more heartdisease\n",
    "\n",
    "Found same result form co-relation matrix plot.\n"
   ]
  },
  {
   "cell_type": "markdown",
   "metadata": {},
   "source": [
    "### Numeric variables distribution and Outliers"
   ]
  },
  {
   "cell_type": "code",
   "execution_count": 6,
   "metadata": {},
   "outputs": [
    {
     "data": {
      "image/png": "[encoded data removed]",
      "text/plain": [
       "<Figure size 720x720 with 5 Axes>"
      ]
     },
     "metadata": {},
     "output_type": "display_data"
    }
   ],
   "source": [
    "col = ['Age', 'RestingBP', 'Cholesterol', 'MaxHR', 'Oldpeak']\n",
    "num_col = df[col]\n",
    "\n",
    "fig, ax = plt.subplots(figsize =(10, 10))\n",
    "fig.patch.set_facecolor('#f1faee')\n",
    "\n",
    "c = 1\n",
    "for i in num_col.columns: \n",
    "        plt.subplot(3, 2, c)\n",
    "        plt.boxplot(num_col[i])\n",
    "        plt.title(i, fontsize=12, color='Black')\n",
    "        plt.suptitle('Numeric Variables', fontsize=20)\n",
    "        c = c + 1"
   ]
  },
  {
   "cell_type": "markdown",
   "metadata": {},
   "source": [
    "Above histogram shows:\n",
    "\n",
    "* Age is unimodal but slightly skewed to left and no outliers\n",
    "* RetingBP is unimodal and normally distributed, has outliers\n",
    "* Cholesterol is bi-modal and has outliers\n",
    "* Maximun heart rate is unimodal and normally distributed has couple of outliers\n",
    "* Old peak is bi-modal and slightly skewed towards right and has some outliers"
   ]
  },
  {
   "cell_type": "code",
   "execution_count": 7,
   "metadata": {},
   "outputs": [],
   "source": [
    "# Dummy variables\n",
    "pd.set_option('display.max_columns', 40)\n",
    "\n",
    "# Select categorical variables\n",
    "cat = df.select_dtypes(include=object).columns\n",
    "df_dummy = pd.get_dummies(df, columns=cat)  "
   ]
  },
  {
   "cell_type": "markdown",
   "metadata": {},
   "source": [
    "# Logistic Regression \n",
    "### \n",
    "Logistic regression is used to obtain odds ratio in the presence of more than one explanatory variable.  \n",
    "The procedure is quite similar to multiple linear regression, with the exception that the response variable is binomial.  \n",
    "The result is the impact of each variable on the odds ratio of the observed event of interest.  "
   ]
  },
  {
   "cell_type": "markdown",
   "metadata": {},
   "source": [
    "### Without Normalization\n",
    "\n",
    "### Model 1"
   ]
  },
  {
   "cell_type": "code",
   "execution_count": 8,
   "metadata": {},
   "outputs": [],
   "source": [
    "inp = df_dummy.drop(columns='HeartDisease')\n",
    "out = df_dummy['HeartDisease']\n",
    "\n",
    "x_train, x_test, y_train, y_test = train_test_split(\n",
    "    inp, out, test_size=0.20, random_state=20)"
   ]
  },
  {
   "cell_type": "code",
   "execution_count": 9,
   "metadata": {},
   "outputs": [
    {
     "name": "stdout",
     "output_type": "stream",
     "text": [
      "Accuracy score:  0.87\n",
      "F1 Score:  0.881\n"
     ]
    }
   ],
   "source": [
    "from sklearn.linear_model import LogisticRegression\n",
    "from sklearn.metrics import accuracy_score, f1_score\n",
    "\n",
    "log_reg = LogisticRegression(solver='liblinear').fit(x_train, y_train)\n",
    "y_pred_lr = log_reg.predict(x_test)\n",
    "print('Accuracy score: ', round(accuracy_score(y_test, y_pred_lr), 3))\n",
    "print('F1 Score: ', round(f1_score(y_test, y_pred_lr), 3))"
   ]
  },
  {
   "cell_type": "code",
   "execution_count": 10,
   "metadata": {},
   "outputs": [
    {
     "data": {
      "text/html": [
       "<div>\n",
       "<style scoped>\n",
       "    .dataframe tbody tr th:only-of-type {\n",
       "        vertical-align: middle;\n",
       "    }\n",
       "\n",
       "    .dataframe tbody tr th {\n",
       "        vertical-align: top;\n",
       "    }\n",
       "\n",
       "    .dataframe thead th {\n",
       "        text-align: right;\n",
       "    }\n",
       "</style>\n",
       "<table border=\"1\" class=\"dataframe\">\n",
       "  <thead>\n",
       "    <tr style=\"text-align: right;\">\n",
       "      <th></th>\n",
       "      <th>Age</th>\n",
       "      <th>RestingBP</th>\n",
       "      <th>Cholesterol</th>\n",
       "      <th>FastingBS</th>\n",
       "      <th>MaxHR</th>\n",
       "      <th>Oldpeak</th>\n",
       "      <th>HeartDisease</th>\n",
       "      <th>Sex_F</th>\n",
       "      <th>Sex_M</th>\n",
       "      <th>ChestPainType_ASY</th>\n",
       "      <th>ChestPainType_ATA</th>\n",
       "      <th>ChestPainType_NAP</th>\n",
       "      <th>ChestPainType_TA</th>\n",
       "      <th>RestingECG_LVH</th>\n",
       "      <th>RestingECG_Normal</th>\n",
       "      <th>RestingECG_ST</th>\n",
       "      <th>ExerciseAngina_N</th>\n",
       "      <th>ExerciseAngina_Y</th>\n",
       "      <th>ST_Slope_Down</th>\n",
       "      <th>ST_Slope_Flat</th>\n",
       "      <th>ST_Slope_Up</th>\n",
       "    </tr>\n",
       "  </thead>\n",
       "  <tbody>\n",
       "    <tr>\n",
       "      <th>0</th>\n",
       "      <td>40</td>\n",
       "      <td>140</td>\n",
       "      <td>289</td>\n",
       "      <td>0</td>\n",
       "      <td>172</td>\n",
       "      <td>0.0</td>\n",
       "      <td>0</td>\n",
       "      <td>0</td>\n",
       "      <td>1</td>\n",
       "      <td>0</td>\n",
       "      <td>1</td>\n",
       "      <td>0</td>\n",
       "      <td>0</td>\n",
       "      <td>0</td>\n",
       "      <td>1</td>\n",
       "      <td>0</td>\n",
       "      <td>1</td>\n",
       "      <td>0</td>\n",
       "      <td>0</td>\n",
       "      <td>0</td>\n",
       "      <td>1</td>\n",
       "    </tr>\n",
       "    <tr>\n",
       "      <th>1</th>\n",
       "      <td>49</td>\n",
       "      <td>160</td>\n",
       "      <td>180</td>\n",
       "      <td>0</td>\n",
       "      <td>156</td>\n",
       "      <td>1.0</td>\n",
       "      <td>1</td>\n",
       "      <td>1</td>\n",
       "      <td>0</td>\n",
       "      <td>0</td>\n",
       "      <td>0</td>\n",
       "      <td>1</td>\n",
       "      <td>0</td>\n",
       "      <td>0</td>\n",
       "      <td>1</td>\n",
       "      <td>0</td>\n",
       "      <td>1</td>\n",
       "      <td>0</td>\n",
       "      <td>0</td>\n",
       "      <td>1</td>\n",
       "      <td>0</td>\n",
       "    </tr>\n",
       "    <tr>\n",
       "      <th>2</th>\n",
       "      <td>37</td>\n",
       "      <td>130</td>\n",
       "      <td>283</td>\n",
       "      <td>0</td>\n",
       "      <td>98</td>\n",
       "      <td>0.0</td>\n",
       "      <td>0</td>\n",
       "      <td>0</td>\n",
       "      <td>1</td>\n",
       "      <td>0</td>\n",
       "      <td>1</td>\n",
       "      <td>0</td>\n",
       "      <td>0</td>\n",
       "      <td>0</td>\n",
       "      <td>0</td>\n",
       "      <td>1</td>\n",
       "      <td>1</td>\n",
       "      <td>0</td>\n",
       "      <td>0</td>\n",
       "      <td>0</td>\n",
       "      <td>1</td>\n",
       "    </tr>\n",
       "    <tr>\n",
       "      <th>3</th>\n",
       "      <td>48</td>\n",
       "      <td>138</td>\n",
       "      <td>214</td>\n",
       "      <td>0</td>\n",
       "      <td>108</td>\n",
       "      <td>1.5</td>\n",
       "      <td>1</td>\n",
       "      <td>1</td>\n",
       "      <td>0</td>\n",
       "      <td>1</td>\n",
       "      <td>0</td>\n",
       "      <td>0</td>\n",
       "      <td>0</td>\n",
       "      <td>0</td>\n",
       "      <td>1</td>\n",
       "      <td>0</td>\n",
       "      <td>0</td>\n",
       "      <td>1</td>\n",
       "      <td>0</td>\n",
       "      <td>1</td>\n",
       "      <td>0</td>\n",
       "    </tr>\n",
       "    <tr>\n",
       "      <th>4</th>\n",
       "      <td>54</td>\n",
       "      <td>150</td>\n",
       "      <td>195</td>\n",
       "      <td>0</td>\n",
       "      <td>122</td>\n",
       "      <td>0.0</td>\n",
       "      <td>0</td>\n",
       "      <td>0</td>\n",
       "      <td>1</td>\n",
       "      <td>0</td>\n",
       "      <td>0</td>\n",
       "      <td>1</td>\n",
       "      <td>0</td>\n",
       "      <td>0</td>\n",
       "      <td>1</td>\n",
       "      <td>0</td>\n",
       "      <td>1</td>\n",
       "      <td>0</td>\n",
       "      <td>0</td>\n",
       "      <td>0</td>\n",
       "      <td>1</td>\n",
       "    </tr>\n",
       "  </tbody>\n",
       "</table>\n",
       "</div>"
      ],
      "text/plain": [
       "   Age  RestingBP  Cholesterol  FastingBS  MaxHR  Oldpeak  HeartDisease  \\\n",
       "0   40        140          289          0    172      0.0             0   \n",
       "1   49        160          180          0    156      1.0             1   \n",
       "2   37        130          283          0     98      0.0             0   \n",
       "3   48        138          214          0    108      1.5             1   \n",
       "4   54        150          195          0    122      0.0             0   \n",
       "\n",
       "   Sex_F  Sex_M  ChestPainType_ASY  ChestPainType_ATA  ChestPainType_NAP  \\\n",
       "0      0      1                  0                  1                  0   \n",
       "1      1      0                  0                  0                  1   \n",
       "2      0      1                  0                  1                  0   \n",
       "3      1      0                  1                  0                  0   \n",
       "4      0      1                  0                  0                  1   \n",
       "\n",
       "   ChestPainType_TA  RestingECG_LVH  RestingECG_Normal  RestingECG_ST  \\\n",
       "0                 0               0                  1              0   \n",
       "1                 0               0                  1              0   \n",
       "2                 0               0                  0              1   \n",
       "3                 0               0                  1              0   \n",
       "4                 0               0                  1              0   \n",
       "\n",
       "   ExerciseAngina_N  ExerciseAngina_Y  ST_Slope_Down  ST_Slope_Flat  \\\n",
       "0                 1                 0              0              0   \n",
       "1                 1                 0              0              1   \n",
       "2                 1                 0              0              0   \n",
       "3                 0                 1              0              1   \n",
       "4                 1                 0              0              0   \n",
       "\n",
       "   ST_Slope_Up  \n",
       "0            1  \n",
       "1            0  \n",
       "2            1  \n",
       "3            0  \n",
       "4            1  "
      ]
     },
     "execution_count": 10,
     "metadata": {},
     "output_type": "execute_result"
    }
   ],
   "source": [
    "df_dummy.head()"
   ]
  },
  {
   "cell_type": "markdown",
   "metadata": {},
   "source": [
    "### With Standardization\n",
    "\n",
    "### Model 2\n",
    "\n",
    "From the sklearn library, we need to use StandardScaler to implement Standardization."
   ]
  },
  {
   "cell_type": "code",
   "execution_count": 11,
   "metadata": {},
   "outputs": [],
   "source": [
    "from sklearn.preprocessing import StandardScaler\n",
    "# input, output var declarations \n",
    "Y = df_dummy['HeartDisease']\n",
    "X = df_dummy[['Age','RestingBP','Cholesterol','FastingBS','MaxHR','Oldpeak']]\n",
    "columns = X.columns\n",
    "# apply Standardization\n",
    "scaler = StandardScaler()\n",
    "X_std = scaler.fit_transform(X)\n",
    "X_std = pd.DataFrame(X_std, columns = columns)\n",
    "# Dataset of all dummy columns\n",
    "df2 = df_dummy.iloc[:,7:]\n",
    "# Merge the Standardization column with dummy columns\n",
    "X_nr = X_std.join(df2)"
   ]
  },
  {
   "cell_type": "code",
   "execution_count": 12,
   "metadata": {},
   "outputs": [],
   "source": [
    "# train test split\n",
    "x_train, x_test, y_train, y_test = train_test_split(\n",
    "    X_nr, Y, test_size=0.20, random_state=20)"
   ]
  },
  {
   "cell_type": "code",
   "execution_count": 13,
   "metadata": {},
   "outputs": [
    {
     "name": "stdout",
     "output_type": "stream",
     "text": [
      "Accuracy score:  0.864\n",
      "F1 Score:  0.876\n"
     ]
    }
   ],
   "source": [
    "log_reg_nr = LogisticRegression(solver='liblinear').fit(x_train, y_train)\n",
    "y_pred_lr_nr = log_reg_nr.predict(x_test)\n",
    "print('Accuracy score: ', round(accuracy_score(y_test, y_pred_lr_nr), 3))\n",
    "print('F1 Score: ', round(f1_score(y_test, y_pred_lr_nr), 3))"
   ]
  },
  {
   "cell_type": "markdown",
   "metadata": {},
   "source": [
    "#### Outlier Imputation\n",
    "\n",
    "Will Work on this, later!\n",
    "\n",
    "From the outliers plot, we see 4 columns have outliers. Replace outliers with Median."
   ]
  },
  {
   "cell_type": "markdown",
   "metadata": {},
   "source": [
    "#### Confusion Matrix for Logistic Regression"
   ]
  },
  {
   "cell_type": "code",
   "execution_count": 14,
   "metadata": {},
   "outputs": [
    {
     "name": "stdout",
     "output_type": "stream",
     "text": [
      "[[71 14]\n",
      " [10 89]]\n"
     ]
    }
   ],
   "source": [
    "print(metrics.confusion_matrix(y_test, y_pred_lr))"
   ]
  },
  {
   "cell_type": "markdown",
   "metadata": {},
   "source": [
    "###\n",
    "TP  FP\n",
    "FN  TN\n",
    "If errors must be, better to have more FP than FN as shown in this confusion matrix.  \n",
    "It's better to be sure, than miss an event.  \n",
    "The F1 Score is the 2*((precision*recall)/(precision+recall))"
   ]
  },
  {
   "cell_type": "code",
   "execution_count": 15,
   "metadata": {},
   "outputs": [
    {
     "name": "stdout",
     "output_type": "stream",
     "text": [
      "              precision    recall  f1-score   support\n",
      "\n",
      "           0       0.88      0.84      0.86        85\n",
      "           1       0.86      0.90      0.88        99\n",
      "\n",
      "    accuracy                           0.87       184\n",
      "   macro avg       0.87      0.87      0.87       184\n",
      "weighted avg       0.87      0.87      0.87       184\n",
      "\n"
     ]
    }
   ],
   "source": [
    "print(metrics.classification_report(y_test, y_pred_lr))"
   ]
  },
  {
   "cell_type": "markdown",
   "metadata": {},
   "source": [
    "### Random Forest\n",
    "\n",
    "The random forest is a classification algorithm consisting of many decisions trees. It uses bagging and feature randomness when building each individual tree to try to create an uncorrelated forest of trees whose prediction by committee is more accurate than that of any individual tree."
   ]
  },
  {
   "cell_type": "markdown",
   "metadata": {},
   "source": [
    "##### Model 3"
   ]
  },
  {
   "cell_type": "code",
   "execution_count": 16,
   "metadata": {},
   "outputs": [
    {
     "name": "stdout",
     "output_type": "stream",
     "text": [
      "Accuracy score:  0.891\n",
      "F1 Score:  0.903\n"
     ]
    }
   ],
   "source": [
    "from sklearn.ensemble import RandomForestClassifier\n",
    "from sklearn.model_selection import GridSearchCV\n",
    "from sklearn.feature_selection import SelectFromModel\n",
    "\n",
    "rf = RandomForestClassifier(random_state=20, n_estimators=100)\n",
    " \n",
    "# x_train, x_test, y_train, y_test\n",
    "rf = rf.fit(x_train, y_train)\n",
    "y_pred_rf = rf.predict(x_test)\n",
    "\n",
    "print('Accuracy score: ', round(accuracy_score(y_test, y_pred_rf), 3))\n",
    "print('F1 Score: ', round(f1_score(y_test, y_pred_rf), 3))"
   ]
  },
  {
   "cell_type": "markdown",
   "metadata": {},
   "source": [
    "##### Model 4\n",
    "\n",
    "Tuned to the model to assign parameters"
   ]
  },
  {
   "cell_type": "code",
   "execution_count": 17,
   "metadata": {},
   "outputs": [
    {
     "name": "stdout",
     "output_type": "stream",
     "text": [
      "best score:  0.890907395729964\n",
      "best param:  {'bootstrap': True, 'max_depth': 10, 'max_features': 'auto', 'min_samples_leaf': 2, 'min_samples_split': 15, 'n_estimators': 100}\n"
     ]
    }
   ],
   "source": [
    "n_estimators = [100, 200, 300]\n",
    "max_depth = [10, 20, 30]\n",
    "max_depth.append(None)\n",
    "max_features = ['auto', 'sqrt']\n",
    "min_samples_split = [5, 10, 15]\n",
    "min_samples_leaf = [1, 2]\n",
    "bootstrap = [True, False]\n",
    "\n",
    "params = {'n_estimators': n_estimators, 'max_features': max_features,\n",
    "          'max_depth': max_depth, 'min_samples_split': min_samples_split,\n",
    "          'min_samples_leaf': min_samples_leaf, 'bootstrap': bootstrap}\n",
    "\n",
    "RF = RandomForestClassifier(random_state=20)\n",
    "\n",
    "grid_search = GridSearchCV(estimator = RF, \n",
    "                           param_grid = params,\n",
    "                           scoring = 'f1',\n",
    "                           cv = 5,\n",
    "                           verbose=0, \n",
    "                           n_jobs=-1)\n",
    "\n",
    "grid_search.fit(x_train, y_train)\n",
    "print(\"best score: \", grid_search.best_score_)\n",
    "print(\"best param: \", grid_search.best_params_)"
   ]
  },
  {
   "cell_type": "code",
   "execution_count": 18,
   "metadata": {},
   "outputs": [
    {
     "name": "stdout",
     "output_type": "stream",
     "text": [
      "Accuracy score:  0.88\n",
      "F1 Score:  0.892\n"
     ]
    }
   ],
   "source": [
    "best_para = grid_search.best_params_\n",
    "rf_2 = RandomForestClassifier(random_state=20, **best_para)\n",
    "                            \n",
    "rf_2 = rf_2.fit(x_train, y_train)\n",
    "y_pred_rf_2 = rf_2.predict(x_test)\n",
    "\n",
    "print('Accuracy score: ', round(accuracy_score(y_test, y_pred_rf_2), 3))\n",
    "print('F1 Score: ', round(f1_score(y_test, y_pred_rf_2), 3))"
   ]
  },
  {
   "cell_type": "markdown",
   "metadata": {},
   "source": [
    "#### Confusion Matrix for Random Forest"
   ]
  },
  {
   "cell_type": "code",
   "execution_count": 19,
   "metadata": {},
   "outputs": [
    {
     "name": "stdout",
     "output_type": "stream",
     "text": [
      "[[71 14]\n",
      " [ 8 91]]\n"
     ]
    }
   ],
   "source": [
    "print(metrics.confusion_matrix(y_test, y_pred_rf_2))"
   ]
  },
  {
   "cell_type": "code",
   "execution_count": 20,
   "metadata": {},
   "outputs": [
    {
     "name": "stdout",
     "output_type": "stream",
     "text": [
      "              precision    recall  f1-score   support\n",
      "\n",
      "           0       0.90      0.84      0.87        85\n",
      "           1       0.87      0.92      0.89        99\n",
      "\n",
      "    accuracy                           0.88       184\n",
      "   macro avg       0.88      0.88      0.88       184\n",
      "weighted avg       0.88      0.88      0.88       184\n",
      "\n"
     ]
    }
   ],
   "source": [
    "print(metrics.classification_report(y_test, y_pred_rf_2))"
   ]
  },
  {
   "cell_type": "markdown",
   "metadata": {},
   "source": [
    "# Feature Selection \n"
   ]
  },
  {
   "cell_type": "code",
   "execution_count": 25,
   "metadata": {},
   "outputs": [
    {
     "data": {
      "image/png": "[encoded data removed]",
      "text/plain": [
       "<Figure size 1080x576 with 1 Axes>"
      ]
     },
     "metadata": {
      "needs_background": "light"
     },
     "output_type": "display_data"
    }
   ],
   "source": [
    "from sklearn.feature_selection import mutual_info_classif\n",
    "plt.figure(figsize=(15,8))\n",
    "imp = mutual_info_classif(inp, out)\n",
    "feature_imp = pd.Series(imp, df_dummy.columns[0:len(df_dummy.columns)-1])\n",
    "feature_imp = feature_imp.sort_values(ascending=True)\n",
    "feature_imp.plot(kind = 'barh', color = 'teal')\n",
    "plt.title(\"Feature importance plot\")\n",
    "plt.savefig(\"images\\\\featureImportance.png\")"
   ]
  },
  {
   "cell_type": "markdown",
   "metadata": {},
   "source": [
    "Lets select top 10 features and apply random forest model."
   ]
  },
  {
   "cell_type": "markdown",
   "metadata": {},
   "source": [
    "##### Model 5 \n",
    "\n",
    "Random forest model with top 10 features"
   ]
  },
  {
   "cell_type": "code",
   "execution_count": 22,
   "metadata": {},
   "outputs": [],
   "source": [
    "best_feat_df = df_dummy[['ST_Slope_Flat','Sex_M','ST_Slope_Down','RestingECG_ST','ExerciseAngina_N', \n",
    "                         'Oldpeak','ChestPainType_ASY','MaxHR','Sex_F','Cholesterol','HeartDisease']]\n",
    "\n",
    "inp_feat = best_feat_df.drop(columns='HeartDisease')\n",
    "out_feat = best_feat_df['HeartDisease']\n",
    "\n",
    "x_train_2, x_test_2, y_train_2, y_test_2 = train_test_split(\n",
    "    inp_feat, out_feat, test_size=0.20, random_state=20)"
   ]
  },
  {
   "cell_type": "code",
   "execution_count": 23,
   "metadata": {},
   "outputs": [
    {
     "name": "stdout",
     "output_type": "stream",
     "text": [
      "Accuracy score:  0.864\n",
      "F1 Score:  0.876\n"
     ]
    }
   ],
   "source": [
    "rf_feat = RandomForestClassifier(random_state=20, n_estimators=100)\n",
    " \n",
    "rf_feat = rf_feat.fit(x_train_2, y_train_2)\n",
    "y_pred_rf_feat = rf_feat.predict(x_test_2)\n",
    "\n",
    "print('Accuracy score: ', round(accuracy_score(y_test_2, y_pred_rf_feat), 3))\n",
    "print('F1 Score: ', round(f1_score(y_test_2, y_pred_rf_feat), 3))"
   ]
  },
  {
   "cell_type": "markdown",
   "metadata": {},
   "source": [
    "# Conclusion"
   ]
  },
  {
   "cell_type": "markdown",
   "metadata": {},
   "source": [
    "The Random forest model with all the features gives highest accuracy.\n",
    "\n",
    "Out of all 4 models Random forest performs better. The model 3 could be the potential best fit for our data. Moreover, accuracy is 89%.\n",
    "The model is confusion matrix shows:\n",
    "\n",
    "    * True Positive = 71\n",
    "    * False Positive = 14\n",
    "    * False Negative = 6\n",
    "    * True Negative = 93\n",
    "\n",
    "The model is producing fewer False Negatives than False Positives.\n",
    "\n",
    "There is definitely room for improvement. In this project we tried to implement 2 supervised models i.e Logistic and Random forest. "
   ]
  }
 ],
 "metadata": {
  "kernelspec": {
   "display_name": "Python 3",
   "language": "python",
   "name": "python3"
  },
  "language_info": {
   "codemirror_mode": {
    "name": "ipython",
    "version": 3
   },
   "file_extension": ".py",
   "mimetype": "text/x-python",
   "name": "python",
   "nbconvert_exporter": "python",
   "pygments_lexer": "ipython3",
   "version": "3.9.7"
  }
 },
 "nbformat": 4,
 "nbformat_minor": 4
}
