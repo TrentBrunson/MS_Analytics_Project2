{
 "cells": [
  {
   "cell_type": "markdown",
   "metadata": {},
   "source": []
  },
  {
   "cell_type": "markdown",
   "metadata": {},
   "source": [
    "### \n",
    "**AUTHORS:**    Trent Brunson, Jonathan Hewlett, Chirag Patel  \n",
    "\n",
    "**COURSE:**     ANLY 615  \n",
    "\n",
    "**PROGRAM:**    Heart Matters: Cardiovascular disease (CVD) indicators  \n",
    "\n",
    "**PURPOSE:**    Determine which measurements can be used as indicators for CVD.  \n",
    "\n",
    "**INPUT:**      Dataset from https://raw.githubusercontent.com/JD23tamu/MS_Analytics_Project2/main/data/heart.csv  \n",
    "            Also available on Kaggle: https://www.kaggle.com/fedesoriano/heart-failure-prediction/version/1   \n",
    "            See comments about inputs below.  \n",
    "            \n",
    "**PROCESS:**    \n",
    "- Clean data:  \n",
    "    - View data types\n",
    "    - Look for NaN across rows and columns\n",
    "    - Examine value ranges for features\n",
    "    - Evaluate fields with zero for inputs\n",
    "    - Evaluate outliers\n",
    "- Visualize data\n",
    "    - Histograms\n",
    "    - Pairplots\n",
    "    - Use libraries for Exploratory Data Analysis (EDA)\n",
    "- Handle outliers/missing data with imputation and deletion\n",
    "- Evaluate impact on models\n",
    "\n",
    "**OUTPUT:**     Write cleaned data to new file.  Display on in jupyter NB.  Provide linke to html file.\n",
    "\n",
    "**HONOR CODE:** On my honor, as an Aggie, I have neither given nor received unauthorized aid on this academic work.  "
   ]
  },
  {
   "cell_type": "markdown",
   "metadata": {},
   "source": [
    "# Cardio Vascular Disease\n",
    "\n",
    "### \n",
    "* A leading cause of death globally is Cardiovascular diseases (CVDs).  \n",
    "• CVDs accounted for 31% of all deaths worldwide.  \n",
    "• Current data indicates 4 of 5 CVD deaths are due to heart attacks & strokes (1/3rd of these deaths occurred in people < 70 years old).  \n",
    "• Heart failure is a common event cause by CVDs.  \n",
    "• This examines 11 features to evaluate their effectiveness as predictors for possible heart disease.   \n",
    "\n",
    "This examines data obtained from this [data source.](https://www.kaggle.com/fedesoriano/heart-failure-prediction/version/1)\n",
    "\n",
    "Data in this set represents those 11 elements from 918 observations. Those observations are a combination of 5 datasets independently available \n",
    "* Cleveland: 303 observations \n",
    "* Hungarian: 294 observations\n",
    "* Switzerland: 123 observations \n",
    "* Long Beach VA: 200 observations \n",
    "* Stalog (Heart) Data Set: 270 observations\n",
    "* Total: 1190 observations\n",
    "\n",
    "-- dropped duplicates: 918"
   ]
  },
  {
   "cell_type": "code",
   "execution_count": null,
   "metadata": {},
   "outputs": [],
   "source": [
    "#!/usr/bin/env python3.97\n",
    "\n",
    "# Dependencies\n",
    "import pandas as pd\n",
    "import seaborn as sns\n",
    "import matplotlib.pyplot as plt\n",
    "import numpy as np\n",
    "from pandas_profiling import ProfileReport\n",
    "from sklearn.linear_model import LinearRegression\n",
    "from sklearn.model_selection import train_test_split\n",
    "from sklearn import metrics\n",
    "from sklearn.linear_model import LogisticRegression\n",
    "from sklearn.metrics import accuracy_score, f1_score\n",
    "from sklearn.preprocessing import StandardScaler\n",
    "from sklearn.ensemble import RandomForestClassifier\n",
    "from sklearn.model_selection import GridSearchCV\n",
    "from sklearn.feature_selection import SelectFromModel\n",
    "from sklearn.feature_selection import mutual_info_classif\n",
    "\n",
    "%run ./eda.ipynb\n",
    "%run ./eda1.ipynb\n",
    "%run ./models.ipynb"
   ]
  }
 ],
 "metadata": {
  "interpreter": {
   "hash": "ac59ebe37160ed0dfa835113d9b8498d9f09ceb179beaac4002f036b9467c963"
  },
  "kernelspec": {
   "display_name": "Python 3.9.7 64-bit",
   "language": "python",
   "name": "python3"
  },
  "language_info": {
   "codemirror_mode": {
    "name": "ipython",
    "version": 3
   },
   "file_extension": ".py",
   "mimetype": "text/x-python",
   "name": "python",
   "nbconvert_exporter": "python",
   "pygments_lexer": "ipython3",
   "version": "3.9.7"
  },
  "orig_nbformat": 4
 },
 "nbformat": 4,
 "nbformat_minor": 2
}
